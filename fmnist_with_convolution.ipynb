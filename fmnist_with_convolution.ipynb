{
  "cells": [
    {
      "cell_type": "code",
      "execution_count": null,
      "metadata": {
        "id": "oC_J63IlpWTU"
      },
      "outputs": [],
      "source": [
        "import torch\n",
        "import torch.nn as nn\n",
        "from torch.utils.data import Dataset, DataLoader\n",
        "from torchvision import datasets, transforms"
      ]
    },
    {
      "cell_type": "code",
      "execution_count": null,
      "metadata": {
        "id": "oKEoITZSrUtZ"
      },
      "outputs": [],
      "source": [
        "class CustomDataset(Dataset):\n",
        "  def __init__(self, features, labels):\n",
        "    self.features = torch.tensor(features, dtype=torch.float32).reshape(-1, 1, 28, 28)\n",
        "    self.labels = torch.tensor(labels, dtype=torch.long)\n",
        "\n",
        "  def __len__(self):\n",
        "    return len(self.features)\n",
        "\n",
        "  def __getitem__(self, index):\n",
        "    return self.features[index], self.labels[index]"
      ]
    },
    {
      "cell_type": "code",
      "execution_count": null,
      "metadata": {
        "id": "sr07bwwao8ST"
      },
      "outputs": [],
      "source": [
        "class NeuralModel(nn.Module):\n",
        "  def __init__(self, input_features, device):\n",
        "    super().__init__()\n",
        "    self.device = device\n",
        "    self.criterion = nn.CrossEntropyLoss()\n",
        "\n",
        "    self.features = nn.Sequential(\n",
        "        nn.Conv2d(input_features, 32, kernel_size=3, padding='same'),\n",
        "        nn.ReLU(),\n",
        "        nn.BatchNorm2d(32),\n",
        "        nn.MaxPool2d(kernel_size=2, stride=2),\n",
        "\n",
        "        nn.Conv2d(32, 64, kernel_size=3, padding='same'),\n",
        "        nn.ReLU(),\n",
        "        nn.BatchNorm2d(64),\n",
        "        nn.MaxPool2d(kernel_size=2, stride=2),\n",
        "\n",
        "    )\n",
        "\n",
        "    self.classifier = nn.Sequential(\n",
        "        nn.Flatten(),\n",
        "        nn.Linear(64*7*7, 128),\n",
        "        nn.ReLU(),\n",
        "        nn.Dropout(0.4),\n",
        "\n",
        "        nn.Linear(128, 64),\n",
        "        nn.ReLU(),\n",
        "        nn.Dropout(0.4),\n",
        "\n",
        "        nn.Linear(64, 10),\n",
        "    )\n",
        "\n",
        "    self.optimizer = torch.optim.Adam(self.parameters(), lr=1e-3)\n",
        "\n",
        "\n",
        "  def forward(self, X):\n",
        "    X = self.features(X)\n",
        "    X = self.classifier(X)\n",
        "    return X\n",
        "\n",
        "  def loss(self, X, y):\n",
        "    y_pred = self.forward(X)\n",
        "    return self.criterion(y_pred, y)\n",
        "\n",
        "  def fit(self, train_loader, epochs):\n",
        "\n",
        "    self.train()\n",
        "    for epoch in range(epochs):\n",
        "      total_loss = 0\n",
        "      correct, total = 0, 0\n",
        "\n",
        "      scaler = torch.amp.GradScaler('cuda')\n",
        "\n",
        "      for X_batch, y_batch in train_loader:\n",
        "        X_batch, y_batch = X_batch.to(self.device, non_blocking=True), y_batch.to(self.device, non_blocking=True)\n",
        "        self.optimizer.zero_grad()\n",
        "\n",
        "        with torch.amp.autocast('cuda'):\n",
        "          outputs = self.forward(X_batch)\n",
        "          loss = self.criterion(outputs, y_batch)\n",
        "\n",
        "        scaler.scale(loss).backward()\n",
        "        scaler.step(self.optimizer)\n",
        "        scaler.update()\n",
        "\n",
        "        total_loss += loss.item()\n",
        "\n",
        "        _, predicted = torch.max(outputs, 1)\n",
        "        total += y_batch.size(0)\n",
        "        correct += (predicted == y_batch).sum().item()\n",
        "\n",
        "      avg_loss = total_loss / len(train_loader)\n",
        "      accuracy = 100 * correct / total\n",
        "      print(f\"Epoch {epoch+1}/{epochs} - Loss: {avg_loss:.4f} - Accuracy: {accuracy:.2f}%\")\n",
        "\n",
        "  def evaluate(self, test_loader):\n",
        "    self.eval()\n",
        "    correct, total = 0, 0\n",
        "    with torch.no_grad():\n",
        "      for X_batch, y_batch in test_loader:\n",
        "        X_batch, y_batch = X_batch.to(self.device), y_batch.to(self.device)\n",
        "\n",
        "        outputs = self.forward(X_batch)\n",
        "        _, predicted = torch.max(outputs, 1)\n",
        "\n",
        "        total += y_batch.size(0)\n",
        "        correct += (predicted == y_batch).sum().item()\n",
        "\n",
        "    accuracy = 100 * correct / total\n",
        "    print(F'Accuracy: {accuracy:.2f}%')\n",
        "\n",
        "    return accuracy"
      ]
    },
    {
      "cell_type": "code",
      "execution_count": null,
      "metadata": {
        "id": "i7TfA8uZrKfk"
      },
      "outputs": [],
      "source": [
        "transform = transforms.Compose([\n",
        "    transforms.ToTensor(),\n",
        "    transforms.Normalize((0.5,),(0.5,)),\n",
        "    transforms.RandomVerticalFlip(p=0.5),\n",
        "    transforms.RandomHorizontalFlip(p=0.5),\n",
        "    transforms.RandomRotation(degrees=15),\n",
        "    transforms.RandomAffine(degrees=0, translate=(0.1, 0.1)),\n",
        "    transforms.RandomErasing(p=0.5, scale=(0.02, 0.33), ratio=(0.3, 3.3), value=0, inplace=False),\n",
        "])"
      ]
    },
    {
      "cell_type": "code",
      "execution_count": null,
      "metadata": {
        "colab": {
          "base_uri": "https://localhost:8080/"
        },
        "id": "8poagcnIujOg",
        "outputId": "982fcb63-9c99-476b-9e52-ea971024c9d6"
      },
      "outputs": [
        {
          "name": "stderr",
          "output_type": "stream",
          "text": [
            "100%|██████████| 26.4M/26.4M [00:01<00:00, 13.2MB/s]\n",
            "100%|██████████| 29.5k/29.5k [00:00<00:00, 208kB/s]\n",
            "100%|██████████| 4.42M/4.42M [00:01<00:00, 3.50MB/s]\n",
            "100%|██████████| 5.15k/5.15k [00:00<00:00, 13.5MB/s]\n"
          ]
        }
      ],
      "source": [
        "train_dataset = datasets.FashionMNIST(\n",
        "    root=\"./data\",\n",
        "    train=True,\n",
        "    download=True,\n",
        "    transform=transform\n",
        ")"
      ]
    },
    {
      "cell_type": "code",
      "execution_count": null,
      "metadata": {
        "id": "KyaGdhIHuvF9"
      },
      "outputs": [],
      "source": [
        "test_dataset = datasets.FashionMNIST(\n",
        "    root=\"./data\",\n",
        "    train=False,\n",
        "    download=True,\n",
        "    transform=transform\n",
        ")"
      ]
    },
    {
      "cell_type": "code",
      "execution_count": null,
      "metadata": {
        "id": "lFxQKp0xuzB0"
      },
      "outputs": [],
      "source": [
        "train_loader = DataLoader(\n",
        "    train_dataset,\n",
        "    batch_size=64,\n",
        "    shuffle=True,\n",
        "    pin_memory=True,\n",
        ")\n",
        "\n",
        "test_loader = DataLoader(\n",
        "    test_dataset,\n",
        "    batch_size=64,\n",
        "    shuffle=False,\n",
        "    pin_memory=True,\n",
        ")"
      ]
    },
    {
      "cell_type": "code",
      "execution_count": null,
      "metadata": {
        "colab": {
          "base_uri": "https://localhost:8080/"
        },
        "id": "TAKhBJvjvH2k",
        "outputId": "eaee37ac-b627-45fe-ef64-7078624b22c3"
      },
      "outputs": [
        {
          "name": "stdout",
          "output_type": "stream",
          "text": [
            "Batch images shape: torch.Size([64, 1, 28, 28])\n",
            "Batch labels shape: torch.Size([64])\n"
          ]
        }
      ],
      "source": [
        "images, labels = next(iter(train_loader))\n",
        "print(\"Batch images shape:\", images.shape)\n",
        "print(\"Batch labels shape:\", labels.shape)"
      ]
    },
    {
      "cell_type": "code",
      "execution_count": null,
      "metadata": {
        "id": "_XyQnV7rvWDl"
      },
      "outputs": [],
      "source": [
        "device = torch.device(\"cuda\" if torch.cuda.is_available() else \"cpu\")\n",
        "model = NeuralModel(1, device=device).to(device)"
      ]
    },
    {
      "cell_type": "code",
      "execution_count": null,
      "metadata": {
        "colab": {
          "background_save": true,
          "base_uri": "https://localhost:8080/"
        },
        "id": "UTodJhf_vprD",
        "outputId": "d57edb40-995d-4f77-cc21-9ad4a5de06ae"
      },
      "outputs": [
        {
          "name": "stdout",
          "output_type": "stream",
          "text": [
            "Epoch 1/10 - Loss: 0.9883 - Accuracy: 63.37%\n",
            "Epoch 2/10 - Loss: 0.7578 - Accuracy: 72.31%\n",
            "Epoch 3/10 - Loss: 0.6955 - Accuracy: 74.67%\n",
            "Epoch 4/10 - Loss: 0.6594 - Accuracy: 76.21%\n",
            "Epoch 5/10 - Loss: 0.6301 - Accuracy: 77.23%\n",
            "Epoch 6/10 - Loss: 0.6096 - Accuracy: 78.39%\n",
            "Epoch 7/10 - Loss: 0.5984 - Accuracy: 78.64%\n",
            "Epoch 8/10 - Loss: 0.5796 - Accuracy: 78.92%\n",
            "Epoch 9/10 - Loss: 0.5665 - Accuracy: 79.75%\n",
            "Epoch 10/10 - Loss: 0.5534 - Accuracy: 80.22%\n"
          ]
        }
      ],
      "source": [
        "model.fit(train_loader, epochs=10)"
      ]
    },
    {
      "cell_type": "code",
      "execution_count": null,
      "metadata": {
        "colab": {
          "background_save": true
        },
        "id": "cBUCt2ciwpXZ",
        "outputId": "4008df90-fb43-48b9-f49a-4d0f39472eee"
      },
      "outputs": [
        {
          "name": "stdout",
          "output_type": "stream",
          "text": [
            "Accuracy: 81.50%\n"
          ]
        },
        {
          "data": {
            "text/plain": [
              "81.5"
            ]
          },
          "execution_count": 11,
          "metadata": {},
          "output_type": "execute_result"
        }
      ],
      "source": [
        "model.evaluate(test_loader)"
      ]
    },
    {
      "cell_type": "code",
      "execution_count": null,
      "metadata": {
        "id": "ST4srPODwtb8"
      },
      "outputs": [],
      "source": []
    }
  ],
  "metadata": {
    "accelerator": "GPU",
    "colab": {
      "gpuType": "T4",
      "provenance": []
    },
    "kernelspec": {
      "display_name": "Python 3",
      "name": "python3"
    },
    "language_info": {
      "name": "python"
    }
  },
  "nbformat": 4,
  "nbformat_minor": 0
}